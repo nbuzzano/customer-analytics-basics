{
 "cells": [
  {
   "cell_type": "markdown",
   "metadata": {},
   "source": [
    "## Libraries"
   ]
  },
  {
   "cell_type": "code",
   "execution_count": 1,
   "metadata": {},
   "outputs": [],
   "source": [
    "import numpy as np\n",
    "import pandas as pd\n",
    "import scipy\n",
    "\n",
    "import matplotlib.pyplot as plt\n",
    "import seaborn as sns\n",
    "sns.set()\n",
    "\n",
    "from sklearn.preprocessing import StandardScaler\n",
    "from scipy.cluster.hierarchy import dendrogram, linkage\n",
    "from sklearn.cluster import KMeans\n",
    "from sklearn.decomposition import PCA"
   ]
  },
  {
   "cell_type": "markdown",
   "metadata": {},
   "source": [
    "## Hierarchical Clustering"
   ]
  },
  {
   "cell_type": "code",
   "execution_count": 4,
   "metadata": {},
   "outputs": [
    {
     "name": "stderr",
     "output_type": "stream",
     "text": [
      "/anaconda2/lib/python2.7/site-packages/sklearn/preprocessing/data.py:645: DataConversionWarning: Data with input dtype int64 were all converted to float64 by StandardScaler.\n",
      "  return self.partial_fit(X, y)\n",
      "/anaconda2/lib/python2.7/site-packages/sklearn/base.py:464: DataConversionWarning: Data with input dtype int64 were all converted to float64 by StandardScaler.\n",
      "  return self.fit(X, **fit_params).transform(X)\n"
     ]
    }
   ],
   "source": [
    "# Load the data, contained in the segmentation data csv file.\n",
    "df_segmentation = pd.read_csv('segmentation data.csv', index_col = 0)\n",
    "\n",
    "# Standardizing data, so that all features have equal weight. This is important for modelling.\n",
    "# Otherwise, in our case Income would be considered much more important than Education for Instance. \n",
    "# We do not know if this is the case, so we would not like to introduce it to our model. \n",
    "scaler = StandardScaler()\n",
    "segmentation_std = scaler.fit_transform(df_segmentation)\n",
    "\n",
    "# Perform Hierarchical Clustering. The results are returned as a linkage matrix. \n",
    "hier_clust = linkage(segmentation_std, method = 'ward')"
   ]
  },
  {
   "cell_type": "code",
   "execution_count": 5,
   "metadata": {},
   "outputs": [
    {
     "data": {
      "image/png": "[encoded data removed]",
      "text/plain": [
       "<Figure size 864x648 with 1 Axes>"
      ]
     },
     "metadata": {
      "needs_background": "light"
     },
     "output_type": "display_data"
    }
   ],
   "source": [
    "# plotting the results from the Hierarchical Clustering using a Dendrogram. \n",
    "# The dendrogram's level p shows only the last p merged clusters.\n",
    "# showing the labels for each point was also omitted.\n",
    "plt.figure(figsize = (12,9))\n",
    "plt.title('Hierarchical Clustering Dendrogram')\n",
    "plt.xlabel('Observations')\n",
    "plt.ylabel('Distance')\n",
    "dendrogram(hier_clust,\n",
    "           truncate_mode = 'level', \n",
    "           p = 5, \n",
    "           show_leaf_counts = False, \n",
    "           no_labels = True)\n",
    "plt.show()"
   ]
  },
  {
   "cell_type": "code",
   "execution_count": null,
   "metadata": {},
   "outputs": [],
   "source": [
    "# Hierarchical clustering finds the right number of clusters in data (4 in this case).\n",
    "\n",
    "# Usually in practice we use flat clustering techniques rather than hierarchical techniques, \n",
    "# they’re way faster, but if we have no prior knowledge about the number of cluster we can start by \n",
    "# performing hierarchical clustering to determine them.\n",
    "\n",
    "# Then we can use flat clustering for the segmentation itself."
   ]
  },
  {
   "cell_type": "code",
   "execution_count": null,
   "metadata": {},
   "outputs": [],
   "source": []
  }
 ],
 "metadata": {
  "kernelspec": {
   "display_name": "Python 2",
   "language": "python",
   "name": "python2"
  },
  "language_info": {
   "codemirror_mode": {
    "name": "ipython",
    "version": 2
   },
   "file_extension": ".py",
   "mimetype": "text/x-python",
   "name": "python",
   "nbconvert_exporter": "python",
   "pygments_lexer": "ipython2",
   "version": "2.7.15"
  }
 },
 "nbformat": 4,
 "nbformat_minor": 2
}
